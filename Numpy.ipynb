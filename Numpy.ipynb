{
 "cells": [
  {
   "cell_type": "markdown",
   "id": "9aa302bc",
   "metadata": {},
   "source": [
    "# Numpy"
   ]
  },
  {
   "cell_type": "code",
   "execution_count": 1,
   "id": "524c2605",
   "metadata": {},
   "outputs": [],
   "source": [
    "##!pip install numpy"
   ]
  },
  {
   "cell_type": "code",
   "execution_count": 2,
   "id": "68ea49d1",
   "metadata": {},
   "outputs": [],
   "source": [
    "import numpy as np"
   ]
  },
  {
   "cell_type": "markdown",
   "id": "68baa993",
   "metadata": {},
   "source": [
    "###  zeros()\n",
    "\n",
    " - 괄호 안에 입력된 숫자만큼의 원소를 생성하고 0으로 초기화"
   ]
  },
  {
   "cell_type": "code",
   "execution_count": 3,
   "id": "3728e94f",
   "metadata": {},
   "outputs": [
    {
     "name": "stdout",
     "output_type": "stream",
     "text": [
      "[[0 0]\n",
      " [0 0]\n",
      " [0 0]\n",
      " [0 0]\n",
      " [0 0]\n",
      " [0 0]\n",
      " [0 0]\n",
      " [0 0]\n",
      " [0 0]\n",
      " [0 0]]\n",
      "<class 'numpy.ndarray'> [1 2 3]\n"
     ]
    },
    {
     "data": {
      "text/plain": [
       "(3,)"
      ]
     },
     "execution_count": 3,
     "metadata": {},
     "output_type": "execute_result"
    }
   ],
   "source": [
    "y = np.zeros(shape=(10, 2), dtype=np.int8)\n",
    "# y = np.zeros(10)\n",
    "print(y)\n",
    "\n",
    "\n",
    "x = np.array([1, 2, 3])\n",
    "print(type(x), x)\n",
    "x.shape\n",
    "# propoty 속성"
   ]
  },
  {
   "cell_type": "code",
   "execution_count": 4,
   "id": "1bcd270c",
   "metadata": {},
   "outputs": [
    {
     "data": {
      "text/plain": [
       "array([0., 0., 0.])"
      ]
     },
     "execution_count": 4,
     "metadata": {},
     "output_type": "execute_result"
    }
   ],
   "source": [
    "np.zeros(3)\n",
    "# 배열형태로 0 3번찍힘"
   ]
  },
  {
   "cell_type": "markdown",
   "id": "048cf1f3",
   "metadata": {},
   "source": [
    "###  mean() : 배열에 저장된 원소들의 평균값을 계산"
   ]
  },
  {
   "cell_type": "code",
   "execution_count": 5,
   "id": "064408a0",
   "metadata": {},
   "outputs": [
    {
     "data": {
      "text/plain": [
       "(3,)"
      ]
     },
     "execution_count": 5,
     "metadata": {},
     "output_type": "execute_result"
    }
   ],
   "source": [
    "import numpy as np\n",
    "\n",
    "list_1 = [1, 2, 3]\n",
    "x = np.array(list_1)\n",
    "np.mean(x)\n",
    "x.mean()\n",
    "x.shape\n",
    "# 3행"
   ]
  },
  {
   "cell_type": "markdown",
   "id": "40c4bc5a",
   "metadata": {},
   "source": [
    "### array() \n",
    " - Numpy 형식으로 배열의 원소를 입력할 때는 반드시 리스트 형식으로 입력\n"
   ]
  },
  {
   "cell_type": "code",
   "execution_count": 6,
   "id": "e378df17",
   "metadata": {},
   "outputs": [
    {
     "name": "stdout",
     "output_type": "stream",
     "text": [
      "[1 2 3] [1 2 3] {3, 12, 4} {'a': 'b', 'c': 'd'}\n"
     ]
    }
   ],
   "source": [
    "x = np.array([1, 2, 3])\n",
    "y = np.array((1, 2, 3))\n",
    "z = np.array({12, 3, 4})\n",
    "a = np.array({'a':'b', 'c':'d'})\n",
    "print(x, y, z, a)\n"
   ]
  },
  {
   "cell_type": "markdown",
   "id": "18bebebe",
   "metadata": {},
   "source": [
    "### reshape()\n",
    " - 배열을 원하는 모양으로 생성"
   ]
  },
  {
   "cell_type": "code",
   "execution_count": 7,
   "id": "bd4d32e6",
   "metadata": {},
   "outputs": [
    {
     "name": "stdout",
     "output_type": "stream",
     "text": [
      "[[1 2]\n",
      " [3 4]\n",
      " [5 6]] (3, 2)\n"
     ]
    }
   ],
   "source": [
    "import numpy as np\n",
    "a = [1,2,3,4,5,6]\n",
    "b = np.reshape(a,(3, 2))\n",
    "print(b, b.shape)"
   ]
  },
  {
   "cell_type": "code",
   "execution_count": 8,
   "id": "c84911ca",
   "metadata": {},
   "outputs": [
    {
     "name": "stdout",
     "output_type": "stream",
     "text": [
      "[[1 2 3 4]\n",
      " [5 6 7 8]] (2, 4) \n",
      "\n",
      "[[1 2]\n",
      " [3 4]\n",
      " [5 6]\n",
      " [7 8]] (4, 2)\n"
     ]
    }
   ],
   "source": [
    "import numpy as np\n",
    "a = [1,2,3,4,5,6,7,8]\n",
    "b = np.reshape(a,(2,4))\n",
    "c = np.reshape(a,(4,2))\n",
    "print(b, b.shape, '\\n')\n",
    "print(c, c.shape)"
   ]
  },
  {
   "cell_type": "markdown",
   "id": "de2ff4d8",
   "metadata": {},
   "source": [
    " - reshape() 3차원 변환"
   ]
  },
  {
   "cell_type": "code",
   "execution_count": 9,
   "id": "659aa278",
   "metadata": {},
   "outputs": [
    {
     "name": "stdout",
     "output_type": "stream",
     "text": [
      "[0 1 2 3 4 5 6 7] \n",
      "\n",
      "[1 2 3 4 5 6 7 8] \n",
      "\n",
      "[[[1 2]\n",
      "  [3 4]]\n",
      "\n",
      " [[5 6]\n",
      "  [7 8]]]\n"
     ]
    }
   ],
   "source": [
    "a = np.arange(8)\n",
    "print(a,'\\n')\n",
    "\n",
    "a = np.arange(1,9)\n",
    "print(a,'\\n')\n",
    "\n",
    "b = a.reshape(2,2,2)\n",
    "print(b)"
   ]
  },
  {
   "cell_type": "code",
   "execution_count": 10,
   "id": "34e96708",
   "metadata": {},
   "outputs": [
    {
     "name": "stdout",
     "output_type": "stream",
     "text": [
      "[ 1  2  3  4  5  6  7  8  9 10 11 12] \n",
      "\n",
      "[[[ 1  2]\n",
      "  [ 3  4]]\n",
      "\n",
      " [[ 5  6]\n",
      "  [ 7  8]]\n",
      "\n",
      " [[ 9 10]\n",
      "  [11 12]]]\n"
     ]
    }
   ],
   "source": [
    "a = np.arange(1,13)\n",
    "print(a,'\\n')\n",
    "\n",
    "b = a.reshape(3,2,2)\n",
    "print(b)"
   ]
  },
  {
   "cell_type": "markdown",
   "id": "a87d4832",
   "metadata": {},
   "source": [
    "## reshape 의미\n",
    "\n",
    "#### reshape를 활용하는 경우를 보다 보면 입력인수로 -1이 들어간 경우가 종종 있다. reshape()의 ‘-1’이 의미하는 바는, 변경된 배열의 ‘-1’ 위치의 차원은 “원래 배열의 길이와 남은 차원으로 부터 추정”이 된다는 뜻이다."
   ]
  },
  {
   "cell_type": "code",
   "execution_count": 11,
   "id": "3fd9400c",
   "metadata": {},
   "outputs": [
    {
     "data": {
      "text/plain": [
       "array([[ 0,  1,  2,  3],\n",
       "       [ 4,  5,  6,  7],\n",
       "       [ 8,  9, 10, 11]])"
      ]
     },
     "execution_count": 11,
     "metadata": {},
     "output_type": "execute_result"
    }
   ],
   "source": [
    "x = np.arange(12)\n",
    "y = x.reshape(3,4)\n",
    "y"
   ]
  },
  {
   "cell_type": "code",
   "execution_count": 12,
   "id": "c4c4d1c3",
   "metadata": {},
   "outputs": [
    {
     "data": {
      "text/plain": [
       "array([[ 0],\n",
       "       [ 1],\n",
       "       [ 2],\n",
       "       [ 3],\n",
       "       [ 4],\n",
       "       [ 5],\n",
       "       [ 6],\n",
       "       [ 7],\n",
       "       [ 8],\n",
       "       [ 9],\n",
       "       [10],\n",
       "       [11]])"
      ]
     },
     "execution_count": 12,
     "metadata": {},
     "output_type": "execute_result"
    }
   ],
   "source": [
    "x.reshape(-1,1)"
   ]
  },
  {
   "cell_type": "code",
   "execution_count": 13,
   "id": "07a2ebf0",
   "metadata": {},
   "outputs": [
    {
     "data": {
      "text/plain": [
       "array([[ 0,  1],\n",
       "       [ 2,  3],\n",
       "       [ 4,  5],\n",
       "       [ 6,  7],\n",
       "       [ 8,  9],\n",
       "       [10, 11]])"
      ]
     },
     "execution_count": 13,
     "metadata": {},
     "output_type": "execute_result"
    }
   ],
   "source": [
    "x.reshape(-1,2)"
   ]
  },
  {
   "cell_type": "code",
   "execution_count": 14,
   "id": "a10046b2",
   "metadata": {},
   "outputs": [
    {
     "name": "stdout",
     "output_type": "stream",
     "text": [
      "[[ 0  1  2]\n",
      " [ 3  4  5]\n",
      " [ 6  7  8]\n",
      " [ 9 10 11]] (4, 3)\n"
     ]
    }
   ],
   "source": [
    "print(x.reshape(-1,3), x.reshape(-1,3).shape)"
   ]
  },
  {
   "cell_type": "markdown",
   "id": "00330235",
   "metadata": {},
   "source": [
    "### ones()\n",
    " -  배열을 1의 값들로 채움"
   ]
  },
  {
   "cell_type": "code",
   "execution_count": 15,
   "id": "93513774",
   "metadata": {},
   "outputs": [
    {
     "name": "stdout",
     "output_type": "stream",
     "text": [
      "[[1. 1. 1. 1.]\n",
      " [1. 1. 1. 1.]\n",
      " [1. 1. 1. 1.]]\n"
     ]
    }
   ],
   "source": [
    "y = np.ones([3, 4])\n",
    "print(y)"
   ]
  },
  {
   "cell_type": "code",
   "execution_count": 16,
   "id": "da9bf15c",
   "metadata": {},
   "outputs": [
    {
     "name": "stdout",
     "output_type": "stream",
     "text": [
      "[[1. 1. 1.]\n",
      " [1. 1. 1.]\n",
      " [1. 1. 1.]\n",
      " [1. 1. 1.]]\n"
     ]
    }
   ],
   "source": [
    "y = np.ones([4, 3])\n",
    "print(y)"
   ]
  },
  {
   "cell_type": "code",
   "execution_count": 17,
   "id": "7ccb85eb",
   "metadata": {},
   "outputs": [
    {
     "name": "stdout",
     "output_type": "stream",
     "text": [
      "[[2. 2. 2.]\n",
      " [2. 2. 2.]\n",
      " [2. 2. 2.]\n",
      " [2. 2. 2.]]\n"
     ]
    }
   ],
   "source": [
    "y = np.ones([4, 3]) * 2\n",
    "print(y)"
   ]
  },
  {
   "cell_type": "code",
   "execution_count": 18,
   "id": "5d9e2e69",
   "metadata": {},
   "outputs": [
    {
     "name": "stdout",
     "output_type": "stream",
     "text": [
      "[[0.3 0.3 0.3]\n",
      " [0.3 0.3 0.3]\n",
      " [0.3 0.3 0.3]\n",
      " [0.3 0.3 0.3]]\n"
     ]
    }
   ],
   "source": [
    "y = np.ones([4, 3]) * 0.3\n",
    "print(y)"
   ]
  },
  {
   "cell_type": "markdown",
   "id": "4b075cc9",
   "metadata": {},
   "source": [
    "### Numpy 배열의 슬라이싱"
   ]
  },
  {
   "cell_type": "code",
   "execution_count": 19,
   "id": "b7884bd1",
   "metadata": {},
   "outputs": [
    {
     "name": "stdout",
     "output_type": "stream",
     "text": [
      "[2, 12]\n"
     ]
    }
   ],
   "source": [
    "list1 = [[1, 11], [2, 12], [3, 13], [4, 14] ]\n",
    "print(list1[:][1])\n",
    "#print(list1[:,1])"
   ]
  },
  {
   "cell_type": "code",
   "execution_count": 20,
   "id": "3c1f6f24",
   "metadata": {},
   "outputs": [
    {
     "name": "stdout",
     "output_type": "stream",
     "text": [
      "(4, 2) \n",
      "\n",
      "[[ 1 11]\n",
      " [ 2 12]\n",
      " [ 3 13]\n",
      " [ 4 14]] \n",
      "\n",
      "[11 12 13 14] \n",
      "\n",
      "[ 2 12] \n",
      "\n",
      "12 \n",
      "\n",
      "[ 2 12] \n",
      "\n",
      "[[ 2 12]\n",
      " [ 3 13]\n",
      " [ 4 14]] \n",
      "\n"
     ]
    }
   ],
   "source": [
    "list1 = [[1, 11], [2, 12], [3, 13], [4, 14] ]\n",
    "arr = np.array(list1)\n",
    "print(arr.shape,'\\n')\n",
    "print(arr,'\\n')\n",
    "print(arr[:,1],'\\n')\n",
    "print(arr[:][1],'\\n')\n",
    "print(arr[1][1],'\\n')\n",
    "print(arr[:][1],'\\n')\n",
    "print(arr[1:4],'\\n')"
   ]
  },
  {
   "cell_type": "markdown",
   "id": "b3fe314b",
   "metadata": {},
   "source": [
    "### math 모듈의 sqrt() 와 numpy 모듈의 sqrt() 비교"
   ]
  },
  {
   "cell_type": "code",
   "execution_count": 21,
   "id": "0554bd4f",
   "metadata": {},
   "outputs": [
    {
     "data": {
      "text/plain": [
       "1.4142135623730951"
      ]
     },
     "execution_count": 21,
     "metadata": {},
     "output_type": "execute_result"
    }
   ],
   "source": [
    "import math\n",
    "math.sqrt(2)\n",
    "# math.sqrt([2,3,4])"
   ]
  },
  {
   "cell_type": "code",
   "execution_count": 22,
   "id": "374b32ca",
   "metadata": {},
   "outputs": [
    {
     "name": "stdout",
     "output_type": "stream",
     "text": [
      "[1.41421356]\n",
      "[1.41421356 1.73205081 2.        ]\n"
     ]
    }
   ],
   "source": [
    "import numpy as np\n",
    "print(np.sqrt([2]))\n",
    "print(np.sqrt([2,3,4]))"
   ]
  },
  {
   "cell_type": "code",
   "execution_count": 23,
   "id": "ad6fa8f1",
   "metadata": {},
   "outputs": [
    {
     "data": {
      "text/plain": [
       "array([[0., 0., 0.],\n",
       "       [0., 0., 0.],\n",
       "       [0., 0., 0.],\n",
       "       [0., 0., 0.],\n",
       "       [0., 0., 0.]])"
      ]
     },
     "execution_count": 23,
     "metadata": {},
     "output_type": "execute_result"
    }
   ],
   "source": [
    "import numpy as np\n",
    "\n",
    "x = np.zeros(15)\n",
    "x\n",
    "x.reshape(5,3)"
   ]
  },
  {
   "cell_type": "code",
   "execution_count": 24,
   "id": "18108b1c",
   "metadata": {},
   "outputs": [
    {
     "data": {
      "text/plain": [
       "array([[0., 0., 0.],\n",
       "       [0., 0., 0.],\n",
       "       [0., 0., 0.],\n",
       "       [0., 0., 0.],\n",
       "       [0., 0., 0.]])"
      ]
     },
     "execution_count": 24,
     "metadata": {},
     "output_type": "execute_result"
    }
   ],
   "source": [
    "y = np.zeros([5,3])\n",
    "y"
   ]
  },
  {
   "cell_type": "code",
   "execution_count": 25,
   "id": "5eaf63ce",
   "metadata": {},
   "outputs": [
    {
     "data": {
      "text/plain": [
       "array([[0., 0., 0., 0., 0.],\n",
       "       [0., 0., 0., 0., 0.],\n",
       "       [0., 0., 0., 0., 0.]])"
      ]
     },
     "execution_count": 25,
     "metadata": {},
     "output_type": "execute_result"
    }
   ],
   "source": [
    "#(3, 5)형태로 reshape\n",
    "z = y.reshape([3,5])\n",
    "z"
   ]
  },
  {
   "cell_type": "code",
   "execution_count": 26,
   "id": "0fca4850",
   "metadata": {},
   "outputs": [
    {
     "data": {
      "text/plain": [
       "array([[4., 4., 4., 4., 4.],\n",
       "       [4., 4., 4., 4., 4.],\n",
       "       [4., 4., 4., 4., 4.]])"
      ]
     },
     "execution_count": 26,
     "metadata": {},
     "output_type": "execute_result"
    }
   ],
   "source": [
    "z = y.reshape([3,5])\n",
    "z += 4\n",
    "z"
   ]
  },
  {
   "cell_type": "markdown",
   "id": "288212a8",
   "metadata": {},
   "source": [
    "### 전치행렬\n",
    " - transpose()\n",
    " - 행렬의 값들을 주대각선을 기준으로 위치를 바꾼 행렬을 의미\n",
    " - 행과 열을 교환하여 얻어지는 행렬"
   ]
  },
  {
   "cell_type": "code",
   "execution_count": 27,
   "id": "09b0e534",
   "metadata": {},
   "outputs": [
    {
     "name": "stdout",
     "output_type": "stream",
     "text": [
      "[[1 2]\n",
      " [3 4]] \n",
      "\n",
      "[[1 3]\n",
      " [2 4]]\n"
     ]
    }
   ],
   "source": [
    "import numpy as np\n",
    "ary = np.array([[1, 2],[3, 4]])\n",
    "print(ary, '\\n')\n",
    "\n",
    "trans_ary = ary.transpose()\n",
    "print(trans_ary)"
   ]
  },
  {
   "cell_type": "code",
   "execution_count": 28,
   "id": "ef17d097",
   "metadata": {},
   "outputs": [
    {
     "name": "stdout",
     "output_type": "stream",
     "text": [
      "[[1 2 5]\n",
      " [3 4 6]] \n",
      "\n",
      "[[1 3]\n",
      " [2 4]\n",
      " [5 6]]\n"
     ]
    }
   ],
   "source": [
    "ary = np.array([[1, 2, 5],[3, 4, 6]])\n",
    "print(ary, '\\n')\n",
    "trans_ary = ary.transpose()\n",
    "print(trans_ary)"
   ]
  },
  {
   "cell_type": "markdown",
   "id": "111dafa3",
   "metadata": {},
   "source": [
    "### 2개 배열에 대한 연산\n",
    " - 2개 배열에 저장된 내용을 인덱스별로 계산\n",
    " - 선형대수학의 사칙연산과 동일하게 작동\n",
    " - 곱셈도 같은 원리로 동작"
   ]
  },
  {
   "cell_type": "code",
   "execution_count": 29,
   "id": "c907e2bf",
   "metadata": {},
   "outputs": [
    {
     "name": "stdout",
     "output_type": "stream",
     "text": [
      "[5 7 9]\n",
      "[ 4 10 18]\n",
      "[0.25 0.4  0.5 ]\n",
      "[  1  32 729]\n"
     ]
    }
   ],
   "source": [
    "import numpy as np\n",
    "x = np.array([1, 2, 3])\n",
    "y = np.array([4, 5, 6])\n",
    "print(x+y)\n",
    "print(x*y)\n",
    "print(x/y)\n",
    "print(x**y)"
   ]
  },
  {
   "cell_type": "code",
   "execution_count": 30,
   "id": "e7b2cace",
   "metadata": {},
   "outputs": [
    {
     "name": "stdout",
     "output_type": "stream",
     "text": [
      "[2 3 4]\n"
     ]
    }
   ],
   "source": [
    "x = np.array([1, 2, 3])\n",
    "x += 1\n",
    "print(x)"
   ]
  },
  {
   "cell_type": "code",
   "execution_count": 31,
   "id": "21911292",
   "metadata": {},
   "outputs": [
    {
     "name": "stdout",
     "output_type": "stream",
     "text": [
      "[1 4 9]\n",
      "<class 'numpy.ndarray'>\n",
      "[1, 4, 9]\n",
      "<class 'list'>\n"
     ]
    }
   ],
   "source": [
    "x = np.array([1, 2, 3])\n",
    "x **= 2\n",
    "print(x)\n",
    "print(type(x))\n",
    "print(list(x))\n",
    "print(type(list(x)))"
   ]
  },
  {
   "cell_type": "markdown",
   "id": "9d96622f",
   "metadata": {},
   "source": [
    "### 인덱싱"
   ]
  },
  {
   "cell_type": "code",
   "execution_count": 32,
   "id": "c40e1e34",
   "metadata": {},
   "outputs": [
    {
     "name": "stdout",
     "output_type": "stream",
     "text": [
      "[4 5 6]\n",
      "[2 5 8]\n"
     ]
    }
   ],
   "source": [
    "X = np.array([[1,2,3] , [4,5,6] , [7,8,9]])\n",
    "print(X[1])\n",
    "print(X[:, 1])"
   ]
  },
  {
   "cell_type": "markdown",
   "id": "43980800",
   "metadata": {},
   "source": [
    "### 2개의 Numpy 배열 간의 계산"
   ]
  },
  {
   "cell_type": "code",
   "execution_count": 33,
   "id": "0fba9166",
   "metadata": {},
   "outputs": [
    {
     "name": "stdout",
     "output_type": "stream",
     "text": [
      "[ 5 11 17]\n"
     ]
    }
   ],
   "source": [
    "X = np.array([[1,2,3] , [4,5,6] , [7,8,9]])\n",
    "Y = np.array([[2,3,4] , [5,6,7] , [8,9,10]])\n",
    "print(X[:,1]+Y[:,1])"
   ]
  },
  {
   "cell_type": "code",
   "execution_count": 34,
   "id": "6b6bcb49",
   "metadata": {},
   "outputs": [
    {
     "name": "stdout",
     "output_type": "stream",
     "text": [
      "[1 2 3]\n",
      "[ 8  9 10]\n",
      "result :  [ 9 11 13]\n"
     ]
    }
   ],
   "source": [
    "# X의 1행 + Y의 3행\n",
    "X = np.array([[1,2,3] , [4,5,6] , [7,8,9]])\n",
    "Y = np.array([[2,3,4] , [5,6,7] , [8,9,10]])\n",
    "print(X[0])\n",
    "print(Y[2])\n",
    "print(\"result : \",X[0] + Y[2])"
   ]
  },
  {
   "cell_type": "code",
   "execution_count": 35,
   "id": "8b42d08f",
   "metadata": {},
   "outputs": [
    {
     "name": "stdout",
     "output_type": "stream",
     "text": [
      "[[2]\n",
      " [5]\n",
      " [8]]\n",
      "[ 8  9 10]\n",
      "result :  [[16 18 20]\n",
      " [40 45 50]\n",
      " [64 72 80]]\n"
     ]
    }
   ],
   "source": [
    "# X의 1행 + Y의 3행\n",
    "X = np.array([[1,2,3] , [4,5,6] , [7,8,9]])\n",
    "Y = np.array([[2,3,4] , [5,6,7] , [8,9,10]])\n",
    "print(X[0:,1:2])\n",
    "print(Y[2,:])\n",
    "print(\"result : \",X[0:,1:2] * Y[2])"
   ]
  },
  {
   "cell_type": "code",
   "execution_count": 36,
   "id": "5b2915b2",
   "metadata": {},
   "outputs": [
    {
     "name": "stdout",
     "output_type": "stream",
     "text": [
      "[16 45 80]\n"
     ]
    }
   ],
   "source": [
    "# X의 1행 + Y의 3행\n",
    "X = np.array([[1,2,3] , [4,5,6] , [7,8,9]])\n",
    "Y = np.array([[2,3,4] , [5,6,7] , [8,9,10]])\n",
    "print(X[:,1]*Y[2,:])"
   ]
  },
  {
   "cell_type": "code",
   "execution_count": 37,
   "id": "0b2a3cce",
   "metadata": {},
   "outputs": [
    {
     "name": "stdout",
     "output_type": "stream",
     "text": [
      "[False False False  True  True]\n"
     ]
    }
   ],
   "source": [
    "a = np.array([10, 20, 30, 40, 60])\n",
    "\n",
    "b = a > 30\n",
    "print(b)"
   ]
  },
  {
   "cell_type": "markdown",
   "id": "dcbeab1c",
   "metadata": {},
   "source": [
    "### random()"
   ]
  },
  {
   "cell_type": "code",
   "execution_count": 38,
   "id": "22c756a6",
   "metadata": {},
   "outputs": [
    {
     "name": "stdout",
     "output_type": "stream",
     "text": [
      "[0.1504308  0.88818521 0.23825191 0.74442167 0.81944586]\n"
     ]
    }
   ],
   "source": [
    "import numpy as np\n",
    "\n",
    "ary = np.random.random(5)\n",
    "print(ary)"
   ]
  },
  {
   "cell_type": "code",
   "execution_count": 39,
   "id": "783d8d88",
   "metadata": {},
   "outputs": [
    {
     "name": "stdout",
     "output_type": "stream",
     "text": [
      "[0.79416352 0.00687288 0.46293376 0.93642825 0.77894456] \n",
      "\n",
      "[[0.21057218 0.63935225 0.35814225]\n",
      " [0.66162666 0.49949008 0.66399951]] (2, 3)\n"
     ]
    }
   ],
   "source": [
    "# [0, 1) 범위에서 균일한 분포를 갖습니다.\n",
    "a = np.random.rand(5)\n",
    "print(a, '\\n')\n",
    "\n",
    "b = np.random.rand(2, 3)\n",
    "print(b,b.shape)"
   ]
  },
  {
   "cell_type": "code",
   "execution_count": 40,
   "id": "c4b08680",
   "metadata": {},
   "outputs": [
    {
     "name": "stdout",
     "output_type": "stream",
     "text": [
      "[1 0 0 0 1]\n",
      "[3 2 3 2 2]\n",
      "[[4 3 2]\n",
      " [3 3 3]]\n"
     ]
    }
   ],
   "source": [
    "a = np.random.randint(2, size=5)\n",
    "print(a)\n",
    "\n",
    "b = np.random.randint(2, 4, size=5)\n",
    "print(b)\n",
    "\n",
    "c = np.random.randint(1, 5, size=(2, 3))\n",
    "print(c)"
   ]
  },
  {
   "cell_type": "code",
   "execution_count": 41,
   "id": "5ba1b13e",
   "metadata": {},
   "outputs": [
    {
     "data": {
      "text/plain": [
       "array([ True,  True, False,  True,  True])"
      ]
     },
     "execution_count": 41,
     "metadata": {},
     "output_type": "execute_result"
    }
   ],
   "source": [
    "a = np.random.rand(5)\n",
    "a > 0.12"
   ]
  },
  {
   "cell_type": "markdown",
   "id": "e1468d40",
   "metadata": {},
   "source": [
    "### random.seed()"
   ]
  },
  {
   "cell_type": "code",
   "execution_count": 42,
   "id": "f8be6797",
   "metadata": {},
   "outputs": [
    {
     "name": "stdout",
     "output_type": "stream",
     "text": [
      "[[0.5488135  0.71518937 0.60276338]\n",
      " [0.54488318 0.4236548  0.64589411]]\n"
     ]
    }
   ],
   "source": [
    "np.random.seed(0)\n",
    "\n",
    "print(np.random.rand(2, 3))"
   ]
  },
  {
   "cell_type": "code",
   "execution_count": 43,
   "id": "e5d51ad6",
   "metadata": {},
   "outputs": [
    {
     "name": "stdout",
     "output_type": "stream",
     "text": [
      "[ True  True  True  True  True]\n",
      "True\n"
     ]
    }
   ],
   "source": [
    "np.random.seed(0)\n",
    "a = np.random.rand(5)\n",
    "print(a > 0.12)\n",
    "print(np.all(a>0.12))"
   ]
  },
  {
   "cell_type": "markdown",
   "id": "de0c0292",
   "metadata": {},
   "source": [
    "### any()와 all()의 비교"
   ]
  },
  {
   "cell_type": "code",
   "execution_count": 44,
   "id": "d631e07b",
   "metadata": {},
   "outputs": [
    {
     "name": "stdout",
     "output_type": "stream",
     "text": [
      "[ True  True  True  True  True]\n",
      "True\n"
     ]
    }
   ],
   "source": [
    "a = np.random.rand(5)\n",
    "print(a>0.12)\n",
    "print(np.all(a>0.12))"
   ]
  },
  {
   "cell_type": "code",
   "execution_count": 45,
   "id": "c2637a54",
   "metadata": {},
   "outputs": [
    {
     "name": "stdout",
     "output_type": "stream",
     "text": [
      "[False False False  True False]\n",
      "True\n"
     ]
    }
   ],
   "source": [
    "a = np.random.rand(5)\n",
    "print(a>0.9)\n",
    "print(np.any(a>0.9))"
   ]
  },
  {
   "cell_type": "code",
   "execution_count": 46,
   "id": "4d0478bf",
   "metadata": {},
   "outputs": [
    {
     "name": "stdout",
     "output_type": "stream",
     "text": [
      "[0.5488135  0.71518937 0.60276338 0.54488318 0.4236548  0.64589411\n",
      " 0.43758721]\n",
      "[0.891773   0.96366276 0.38344152 0.79172504 0.52889492 0.56804456\n",
      " 0.92559664]\n",
      "[0.07103606 0.0871293  0.0202184  0.83261985 0.77815675 0.87001215\n",
      " 0.97861834]\n",
      "[0.5507979  0.70814782 0.29090474 0.51082761 0.89294695 0.89629309\n",
      " 0.12558531]\n"
     ]
    }
   ],
   "source": [
    "import numpy as np\n",
    "np.random.seed(0)\n",
    "a = np.random.rand(7)\n",
    "print(a)\n",
    "a = np.random.rand(7)\n",
    "print(a)\n",
    "c = np.random.rand(7)\n",
    "print(c)\n",
    "np.random.seed(3)\n",
    "c = np.random.rand(7)\n",
    "print(c)"
   ]
  },
  {
   "cell_type": "markdown",
   "id": "e250a94a",
   "metadata": {},
   "source": [
    "### linspace()\n",
    " - 시작과 끝의 값을 지정하고 그 사이의 값을 균등하게 배분\n",
    " - 0과 12를 포함한 그 사이의 값들을 선형적으로 분배하여 모두 4개의원소를 갖는 배열을 생성\n",
    " - np.linspace(\n",
    "    start,\n",
    "    stop,\n",
    "    num=50,\n",
    "    endpoint=True,\n",
    "    retstep=False,\n",
    "    dtype=None,\n",
    "    axis=0,\n",
    ")"
   ]
  },
  {
   "cell_type": "code",
   "execution_count": 47,
   "id": "de46bd38",
   "metadata": {},
   "outputs": [
    {
     "data": {
      "text/plain": [
       "array([ 0.,  4.,  8., 12.])"
      ]
     },
     "execution_count": 47,
     "metadata": {},
     "output_type": "execute_result"
    }
   ],
   "source": [
    "np.linspace(0, 12, 4)"
   ]
  },
  {
   "cell_type": "code",
   "execution_count": 48,
   "id": "8d45d0f0",
   "metadata": {},
   "outputs": [
    {
     "data": {
      "text/plain": [
       "array([ 0.  ,  3.25,  6.5 ,  9.75, 13.  ])"
      ]
     },
     "execution_count": 48,
     "metadata": {},
     "output_type": "execute_result"
    }
   ],
   "source": [
    "np.linspace(0, 13, 5)"
   ]
  },
  {
   "cell_type": "code",
   "execution_count": 49,
   "id": "5b853a4e",
   "metadata": {},
   "outputs": [
    {
     "data": {
      "text/plain": [
       "array([ 0.,  4.,  8., 12.])"
      ]
     },
     "execution_count": 49,
     "metadata": {},
     "output_type": "execute_result"
    }
   ],
   "source": [
    "np.linspace(0, 12, 4)"
   ]
  },
  {
   "cell_type": "code",
   "execution_count": 50,
   "id": "7647e7bb",
   "metadata": {},
   "outputs": [
    {
     "data": {
      "text/plain": [
       "(array([ 2. ,  4.5,  7. ,  9.5, 12. ]), 2.5)"
      ]
     },
     "execution_count": 50,
     "metadata": {},
     "output_type": "execute_result"
    }
   ],
   "source": [
    "# 샘플간의 간격\n",
    "np.linspace(2, 12, 5, retstep=True) "
   ]
  },
  {
   "cell_type": "code",
   "execution_count": 51,
   "id": "168becdf",
   "metadata": {},
   "outputs": [
    {
     "data": {
      "text/plain": [
       "array([ 2.,  4.,  6.,  8., 10.])"
      ]
     },
     "execution_count": 51,
     "metadata": {},
     "output_type": "execute_result"
    }
   ],
   "source": [
    "# 마지막 제외\n",
    "np.linspace(2, 12, 5, endpoint=False) "
   ]
  },
  {
   "cell_type": "code",
   "execution_count": null,
   "id": "964f4014",
   "metadata": {},
   "outputs": [],
   "source": []
  }
 ],
 "metadata": {
  "kernelspec": {
   "display_name": "Python 3",
   "language": "python",
   "name": "python3"
  },
  "language_info": {
   "codemirror_mode": {
    "name": "ipython",
    "version": 3
   },
   "file_extension": ".py",
   "mimetype": "text/x-python",
   "name": "python",
   "nbconvert_exporter": "python",
   "pygments_lexer": "ipython3",
   "version": "3.8.6"
  }
 },
 "nbformat": 4,
 "nbformat_minor": 5
}
